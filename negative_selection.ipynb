{
 "cells": [
  {
   "cell_type": "code",
   "execution_count": 1,
   "id": "67f9a6e7-ce52-4c34-b733-49939aa4489e",
   "metadata": {},
   "outputs": [],
   "source": [
    "%matplotlib inline\n",
    "import geopandas\n",
    "import rasterio\n",
    "import rasterio.features\n",
    "import numpy as np\n",
    "import pandas as pd\n",
    "import seaborn as sns\n",
    "import skimage.morphology as morphology\n",
    "import matplotlib.pyplot as plt\n",
    "from tqdm.notebook import tqdm\n",
    "from scipy.interpolate import interp1d\n",
    "from scipy.ndimage import binary_dilation\n",
    "import statsmodels.distributions.empirical_distribution as edf"
   ]
  },
  {
   "cell_type": "markdown",
   "id": "bd39554d-0e9b-4d37-861f-22ded0cb05b6",
   "metadata": {},
   "source": [
    "## Parameters to set"
   ]
  },
  {
   "cell_type": "code",
   "execution_count": 2,
   "id": "5c017ef5-79c5-4fa4-bd6e-3436ec5c8b5e",
   "metadata": {},
   "outputs": [],
   "source": [
    "# Make sure both of these are in a UTM projection!\n",
    "# For north island, we use EPSG:32760\n",
    "positives_name = 'large_landslidesV2_32760.shp'\n",
    "boundary_name = 'boundary_32760.shp'\n",
    "\n",
    "# This parameter sets the resolution of the analysis, making this parameter\n",
    "# smaller will allow shapes to fit in more tightly, but will exponentially\n",
    "# slow down the analysis\n",
    "resolution = 100.0"
   ]
  },
  {
   "cell_type": "markdown",
   "id": "e7f9b813-3064-421e-a097-de1f66c47fa4",
   "metadata": {},
   "source": [
    "## Functions"
   ]
  },
  {
   "cell_type": "code",
   "execution_count": 3,
   "id": "ec0cb782-d77f-422f-84be-39c26eed83aa",
   "metadata": {},
   "outputs": [],
   "source": [
    "def convert_to_raster(polygons,out_name,bounds,resolution=100.0,cache_max=128e6):\n",
    "    # Get shape/origin\n",
    "    origin = (bounds['minx'],bounds['maxy'])\n",
    "    nrow = int(np.ceil((bounds['maxy']-bounds['miny'])/resolution))\n",
    "    ncol = int(np.ceil((bounds['maxx']-bounds['minx'])/resolution))\n",
    "\n",
    "    # Set transform and profile\n",
    "    transform = rasterio.Affine(resolution,0.0,float(origin[0]),0,-resolution,float(origin[1]))\n",
    "    profile = rasterio.profiles.Profile()\n",
    "    profile.update(driver='GTiff',dtype='uint8',width=ncol,height=nrow,\n",
    "                   count=1,crs=str(polygons.crs),transform=transform,tiled=False,compress='lzw',interleave='band')\n",
    "    \n",
    "    # Rasterize\n",
    "    with rasterio.Env(CPL_DEBUG=True, GDAL_CACHEMAX=cache_max):\n",
    "        rasterized = rasterio.features.rasterize(\n",
    "            [(x.geometry, 1) for i, x in polygons.iterrows()],\n",
    "            out_shape=(nrow, ncol),\n",
    "            transform=transform,\n",
    "            fill=0,\n",
    "            all_touched=True,\n",
    "            dtype=rasterio.uint8)\n",
    "\n",
    "        # Write to file\n",
    "        rasterized[rasterized < 1] = 0\n",
    "        with rasterio.open(out_name, 'w', **profile) as out:\n",
    "            out.write_band(1, rasterized)\n",
    "\n",
    "    print(f'{out_name} done!')\n",
    "    return out_name"
   ]
  },
  {
   "cell_type": "markdown",
   "id": "72d83f2b-bbec-460d-8b4d-5658b21710d2",
   "metadata": {},
   "source": [
    "## Convert polygons to rasters"
   ]
  },
  {
   "cell_type": "code",
   "execution_count": 4,
   "id": "1a623e9b-235e-4297-b198-fa314700568b",
   "metadata": {},
   "outputs": [
    {
     "name": "stdout",
     "output_type": "stream",
     "text": [
      "positives.tif done!\n",
      "study_area.tif done!\n"
     ]
    }
   ],
   "source": [
    "# Read in data\n",
    "positives = geopandas.read_file(positives_name)\n",
    "study_area = geopandas.read_file(boundary_name)\n",
    "\n",
    "# Compute shared bounding box\n",
    "names = ['minx', 'miny', 'maxx', 'maxy']\n",
    "pos_bounds = {b:int(round(a)) for a,b in zip(positives.total_bounds,names)}\n",
    "area_bounds = {b:int(round(a)) for a,b in zip(study_area.total_bounds,names)}\n",
    "\n",
    "# Convert to rasters and save\n",
    "bounds = {}\n",
    "for n in names:\n",
    "    f = min if 'min' in n else max\n",
    "    bounds[n] = f(pos_bounds[n],area_bounds[n])\n",
    "\n",
    "pos_name = convert_to_raster(positives,'positives.tif',bounds,resolution=resolution,cache_max=512e6)\n",
    "area_name = convert_to_raster(study_area,'study_area.tif',bounds,resolution=resolution,cache_max=512e6)"
   ]
  },
  {
   "cell_type": "markdown",
   "id": "1adee10b-b59c-4816-9da6-8c8f25aafa12",
   "metadata": {},
   "source": [
    "## Generate distributions"
   ]
  },
  {
   "cell_type": "code",
   "execution_count": 5,
   "id": "9747bd55-8d10-421f-ac3b-77434309d515",
   "metadata": {},
   "outputs": [
    {
     "data": {
      "image/png": "[encoded data removed]",
      "text/plain": [
       "<Figure size 432x288 with 1 Axes>"
      ]
     },
     "metadata": {
      "needs_background": "light"
     },
     "output_type": "display_data"
    }
   ],
   "source": [
    "# Create cumulative density function sampling function\n",
    "real = list(positives.area) + [0]\n",
    "ecdf = edf.ECDF(real)\n",
    "ecdfInv = edf.monotone_fn_inverter(ecdf, real)\n",
    "\n",
    "# Create n simulated samples of areas\n",
    "n = len(real)\n",
    "rns = np.random.uniform(0.001,1,n)\n",
    "simulation = ecdfInv(rns)\n",
    "\n",
    "# Save areas and radii to csv\n",
    "df = pd.DataFrame({'area':simulation})\n",
    "df['radius'] = np.sqrt((df['area'])/np.pi)\n",
    "df.to_csv('radii.csv',index=False)\n",
    "\n",
    "# Plot area distributions\n",
    "real_df = pd.DataFrame({'value':real,'type':'real'})\n",
    "simulation_df = pd.DataFrame({'value':simulation,'type':'simulation'})\n",
    "compare = real_df.append(simulation_df,ignore_index=True)\n",
    "sns.kdeplot(data=compare,x='value',hue='type',cumulative=True,common_norm=False)\n",
    "plt.show()"
   ]
  },
  {
   "cell_type": "markdown",
   "id": "3763ef89-72fe-41cd-a3ac-bda621e5a0ea",
   "metadata": {},
   "source": [
    "## Identify valid points"
   ]
  },
  {
   "cell_type": "code",
   "execution_count": 6,
   "id": "addba00d-cad9-442b-959a-47bc8b769cdf",
   "metadata": {},
   "outputs": [],
   "source": [
    "# Read rasters created in previous step\n",
    "pos_name = 'positives.tif'\n",
    "area_name = 'study_area.tif'\n",
    "with rasterio.open(pos_name) as r:\n",
    "    pos_ras = r.read(1)\n",
    "    profile = r.profile\n",
    "    transform = r.transform\n",
    "    crs = str(r.crs)\n",
    "\n",
    "pos_ras_dialated = binary_dilation(pos_ras,morphology.square(3))\n",
    "\n",
    "with rasterio.open(area_name) as r:\n",
    "    area_ras = r.read(1)\n",
    "\n",
    "xstep, _, xstart, _, ystep, ystart, *_ = list(transform)"
   ]
  },
  {
   "cell_type": "code",
   "execution_count": 7,
   "id": "f033a6b4-9da7-41cf-8a71-4c4bef72138a",
   "metadata": {},
   "outputs": [
    {
     "data": {
      "application/vnd.jupyter.widget-view+json": {
       "model_id": "076e8dd4596649b58e85bbaa57c1601d",
       "version_major": 2,
       "version_minor": 0
      },
      "text/plain": [
       "  0%|          | 0/1058 [00:00<?, ?it/s]"
      ]
     },
     "metadata": {},
     "output_type": "display_data"
    }
   ],
   "source": [
    "# Load radii data\n",
    "df = pd.read_csv('radii.csv')\n",
    "df[['row','column']] = 0\n",
    "\n",
    "# # OR create synthetic data\n",
    "# df = pd.DataFrame(columns=['row','column','radius'])\n",
    "# df['radius'] = np.arange(1000,5000,1000)\n",
    "\n",
    "# Calculate pixel (cell) radius and sort\n",
    "df['radius_cell'] = df['radius'].divide(xstep).apply(np.ceil).astype(int)\n",
    "df = df.sort_values('radius',ascending=False).reset_index(drop=True)\n",
    "\n",
    "# Create emtpy raster to server as canvas\n",
    "nrow,ncol = area_ras.shape\n",
    "array = np.zeros(area_ras.shape)\n",
    "array[(pos_ras==1)|(area_ras==0)] = 1\n",
    "\n",
    "# Get row/column location\n",
    "irow = df.columns.get_loc('row')\n",
    "icol = df.columns.get_loc('column')\n",
    "\n",
    "# Search raster iteratively for valid locations\n",
    "for i,r in tqdm(df.iterrows(),total=df.shape[0]):\n",
    "    radius = int(r['radius_cell'])\n",
    "    circle = morphology.disk(radius)\n",
    "    intersects = True\n",
    "    while intersects:\n",
    "        possible = np.where(array[radius:-radius,radius:-radius]==0)\n",
    "        lrow, lcol = [np.random.choice(x)+radius for x in possible]\n",
    "        window = (slice(lrow-radius,lrow+radius+1), slice(lcol-radius,lcol+radius+1))\n",
    "        added = circle+array[window]\n",
    "        intersects = np.any(added==2)\n",
    "\n",
    "    array[window] = circle\n",
    "    df.iloc[i,irow] = lrow\n",
    "    df.iloc[i,icol] = lcol\n",
    "\n",
    "df.to_csv('points.csv',index=False)"
   ]
  },
  {
   "cell_type": "code",
   "execution_count": 8,
   "id": "3a41b780-c40b-406a-9546-428881873111",
   "metadata": {},
   "outputs": [],
   "source": [
    "# Get transform data and convert form row/column to x/y\n",
    "df = pd.read_csv('points.csv')\n",
    "df['x'] = xstart + (df['column']*xstep) + (xstep/2)\n",
    "df['y'] = ystart + (df['row']*ystep) + (ystep/2)\n",
    "\n",
    "# Write output shapefile\n",
    "gdf = df.copy()\n",
    "gdf = geopandas.GeoDataFrame(gdf, geometry=geopandas.points_from_xy(gdf.x, gdf.y),crs=crs)\n",
    "gdf.drop(['x','y','row','column','radius_cell'],axis=1,inplace=True)\n",
    "gdf['radius'] = gdf['radius'].astype('int64')\n",
    "\n",
    "# Buffer\n",
    "negatives = gdf.copy()\n",
    "negatives.geometry = negatives.apply(lambda x: x.geometry.buffer(x.radius), axis=1)\n",
    "negatives.to_file('negatives.shp')"
   ]
  },
  {
   "cell_type": "code",
   "execution_count": 9,
   "id": "374d6af3-41a1-4030-b533-9ee7606f2ec0",
   "metadata": {},
   "outputs": [],
   "source": [
    "# Write output combination raster for error checking\n",
    "profile.update(nodata=0)\n",
    "with rasterio.open('all.tif', 'w', **profile) as out:\n",
    "    out.write_band(1, array)"
   ]
  },
  {
   "cell_type": "code",
   "execution_count": null,
   "id": "94d7ed4c-4f92-448c-a6d5-ef1afce16264",
   "metadata": {},
   "outputs": [],
   "source": []
  }
 ],
 "metadata": {
  "kernelspec": {
   "display_name": "Python 3",
   "language": "python",
   "name": "python3"
  },
  "language_info": {
   "codemirror_mode": {
    "name": "ipython",
    "version": 3
   },
   "file_extension": ".py",
   "mimetype": "text/x-python",
   "name": "python",
   "nbconvert_exporter": "python",
   "pygments_lexer": "ipython3",
   "version": "3.8.10"
  }
 },
 "nbformat": 4,
 "nbformat_minor": 5
}
